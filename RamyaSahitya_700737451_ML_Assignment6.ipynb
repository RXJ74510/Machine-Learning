{
  "cells": [
    {
      "cell_type": "markdown",
      "metadata": {
        "id": "view-in-github",
        "colab_type": "text"
      },
      "source": [
        "<a href=\"https://colab.research.google.com/github/RXJ74510/Machine-Learning/blob/main/RamyaSahitya_700737451_ML_Assignment6.ipynb\" target=\"_parent\"><img src=\"https://colab.research.google.com/assets/colab-badge.svg\" alt=\"Open In Colab\"/></a>"
      ]
    },
    {
      "cell_type": "code",
      "source": [
        "from google.colab import drive \n",
        "drive.mount('/content/gdrive')"
      ],
      "metadata": {
        "id": "kD_DjOdXi7Wr"
      },
      "id": "kD_DjOdXi7Wr",
      "execution_count": null,
      "outputs": []
    },
    {
      "cell_type": "code",
      "execution_count": null,
      "id": "6574a69e",
      "metadata": {
        "id": "6574a69e"
      },
      "outputs": [],
      "source": [
        "#Q1\n",
        "import numpy as np\n",
        "import pandas as pd\n",
        "import matplotlib.pyplot as plt\n",
        "%matplotlib inline\n",
        "import scipy.cluster.hierarchy as shc\n",
        "from scipy.spatial.distance import squareform, pdist\n",
        "\n",
        "a = np.array([0.4005,0.2148,0.3457,0.2652,0.0789,0.4548])\n",
        "b = np.array([0.5306,0.3854,0.3156,0.1875,0.4139,0.3022])\n",
        "\n",
        "point = ['P1','P2','P3','P4','P5','P6']\n",
        "data = pd.DataFrame({'Point':point, 'x cordinate':a, 'y cordinate':b})\n",
        "data = data.set_index('Point')\n",
        "data"
      ]
    },
    {
      "cell_type": "code",
      "execution_count": null,
      "id": "5c47056a",
      "metadata": {
        "id": "5c47056a"
      },
      "outputs": [],
      "source": [
        "dist = pd.DataFrame(squareform(np.round(pdist(data[['x cordinate', 'y cordinate']]),4), 'euclidean'), columns=data.index.values, index=data.index.values)\n",
        "dist"
      ]
    },
    {
      "cell_type": "code",
      "execution_count": null,
      "id": "02309c13",
      "metadata": {
        "id": "02309c13"
      },
      "outputs": [],
      "source": [
        "plt.figure(figsize=(10,4)) \n",
        "plt.title(\"Dendrogram with Single inkage\")  \n",
        "dend = shc.dendrogram(shc.linkage(data[['x cordinate', 'y cordinate']], method='single'), labels=data.index)"
      ]
    },
    {
      "cell_type": "code",
      "execution_count": null,
      "id": "dabbbc90",
      "metadata": {
        "id": "dabbbc90"
      },
      "outputs": [],
      "source": [
        "plt.figure(figsize=(10,4)) \n",
        "plt.title(\"Dendrogram with Complete inkage\")  \n",
        "dend = shc.dendrogram(shc.linkage(data[['x cordinate', 'y cordinate']], method='complete'), labels=data.index)"
      ]
    },
    {
      "cell_type": "code",
      "execution_count": null,
      "id": "e2b7544c",
      "metadata": {
        "id": "e2b7544c"
      },
      "outputs": [],
      "source": [
        "plt.figure(figsize=(10,4)) \n",
        "plt.title(\"Dendrogram with Average inkage\")  \n",
        "dend = shc.dendrogram(shc.linkage(data[['x cordinate', 'y cordinate']], method='average'), labels=data.index)"
      ]
    },
    {
      "cell_type": "code",
      "execution_count": 8,
      "id": "d510a58c",
      "metadata": {
        "id": "d510a58c"
      },
      "outputs": [],
      "source": [
        "## Q2\n",
        "#importing all libraries here for assignment\n",
        "import numpy as np\n",
        "import pandas as pd\n",
        "import seaborn as sns\n",
        "import matplotlib.pyplot as plt\n",
        "from sklearn import preprocessing,metrics\n",
        "from sklearn.model_selection import train_test_split\n",
        "from sklearn.preprocessing import LabelEncoder, StandardScaler\n",
        "from sklearn.decomposition import PCA\n",
        "from sklearn.cluster import AgglomerativeClustering\n",
        "from sklearn.metrics import silhouette_score\n",
        "\n",
        "import warnings\n",
        "warnings.filterwarnings(\"ignore\")"
      ]
    },
    {
      "cell_type": "code",
      "execution_count": null,
      "id": "a1f0c5f6",
      "metadata": {
        "id": "a1f0c5f6"
      },
      "outputs": [],
      "source": [
        "dataframe = pd.read_csv('/content/gdrive/MyDrive/Dataset/CC GENERAL.csv')\n",
        "dataframe.info()"
      ]
    },
    {
      "cell_type": "code",
      "execution_count": null,
      "id": "b4db64ec",
      "metadata": {
        "id": "b4db64ec"
      },
      "outputs": [],
      "source": [
        "dataframe.head()"
      ]
    },
    {
      "cell_type": "code",
      "execution_count": null,
      "id": "b4a87eb8",
      "metadata": {
        "id": "b4a87eb8"
      },
      "outputs": [],
      "source": [
        "dataframe.describe()"
      ]
    },
    {
      "cell_type": "code",
      "execution_count": null,
      "id": "f19b00bc",
      "metadata": {
        "id": "f19b00bc"
      },
      "outputs": [],
      "source": [
        "df = dataframe.drop(['CUST_ID'], axis=1)\n",
        "df.head()"
      ]
    },
    {
      "cell_type": "code",
      "execution_count": null,
      "id": "32c23941",
      "metadata": {
        "id": "32c23941"
      },
      "outputs": [],
      "source": [
        "df.isnull().any()"
      ]
    },
    {
      "cell_type": "code",
      "execution_count": null,
      "id": "5b7eb944",
      "metadata": {
        "id": "5b7eb944"
      },
      "outputs": [],
      "source": [
        "df.fillna(dataframe.mean(), inplace=True)\n",
        "df.isnull().any()"
      ]
    },
    {
      "cell_type": "code",
      "execution_count": null,
      "id": "1666f166",
      "metadata": {
        "id": "1666f166"
      },
      "outputs": [],
      "source": [
        "df.corr().style.background_gradient(cmap=\"Greens\")"
      ]
    },
    {
      "cell_type": "code",
      "execution_count": 18,
      "id": "eec36ca6",
      "metadata": {
        "id": "eec36ca6"
      },
      "outputs": [],
      "source": [
        "x = df.iloc[:,0:-1]\n",
        "y = df.iloc[:,-1]\n",
        "\n",
        "\n",
        "scaler = preprocessing.StandardScaler()\n",
        "scaler.fit(x)\n",
        "X_scaled_array = scaler.transform(x)\n",
        "X_scaled_df = pd.DataFrame(X_scaled_array, columns = x.columns)"
      ]
    },
    {
      "cell_type": "code",
      "execution_count": 19,
      "id": "7910a047",
      "metadata": {
        "id": "7910a047"
      },
      "outputs": [],
      "source": [
        "#Normalization is the process of scaling individual samples to have unit norm. \n",
        "#This process can be useful if you plan to use a quadratic form such as the dot-product or any other kernel to quantify the similarity of any pair of samples.\n",
        "X_normalized = preprocessing.normalize(X_scaled_df)\n",
        "# Converting the numpy array into a pandas DataFrame\n",
        "X_normalized = pd.DataFrame(X_normalized)"
      ]
    },
    {
      "cell_type": "code",
      "execution_count": null,
      "id": "731f9a71",
      "metadata": {
        "id": "731f9a71"
      },
      "outputs": [],
      "source": [
        "pca2 = PCA(n_components=2)\n",
        "principalComponents = pca2.fit_transform(X_normalized)\n",
        "\n",
        "principalDf = pd.DataFrame(data = principalComponents, columns = ['P1', 'P2'])\n",
        "\n",
        "finalDf = pd.concat([principalDf, df[['TENURE']]], axis = 1)\n",
        "finalDf.head()"
      ]
    },
    {
      "cell_type": "code",
      "execution_count": null,
      "id": "47ae4818",
      "metadata": {
        "id": "47ae4818"
      },
      "outputs": [],
      "source": [
        "plt.figure(figsize=(7,7))\n",
        "plt.scatter(finalDf['P1'],finalDf['P2'],c=finalDf['TENURE'],cmap='prism', s =5)\n",
        "plt.xlabel('pc1')\n",
        "plt.ylabel('pc2')"
      ]
    },
    {
      "cell_type": "code",
      "execution_count": null,
      "id": "2f2b061c",
      "metadata": {
        "id": "2f2b061c"
      },
      "outputs": [],
      "source": [
        "ac2 = AgglomerativeClustering(n_clusters = 2)\n",
        " \n",
        "# Visualizing the clustering\n",
        "plt.figure(figsize =(6, 6))\n",
        "plt.scatter(principalDf['P1'], principalDf['P2'],\n",
        "           c = ac2.fit_predict(principalDf), cmap ='rainbow')\n",
        "plt.show()"
      ]
    },
    {
      "cell_type": "code",
      "execution_count": null,
      "id": "5cfb20f4",
      "metadata": {
        "id": "5cfb20f4"
      },
      "outputs": [],
      "source": [
        "ac3 = AgglomerativeClustering(n_clusters = 3)\n",
        " \n",
        "# Visualizing the clustering\n",
        "plt.figure(figsize =(6, 6))\n",
        "plt.scatter(principalDf['P1'], principalDf['P2'],\n",
        "           c = ac3.fit_predict(principalDf), cmap ='rainbow')\n",
        "plt.show()"
      ]
    },
    {
      "cell_type": "code",
      "execution_count": null,
      "id": "f434a563",
      "metadata": {
        "id": "f434a563"
      },
      "outputs": [],
      "source": [
        "ac4 = AgglomerativeClustering(n_clusters = 4)\n",
        " \n",
        "# Visualizing the clustering\n",
        "plt.figure(figsize =(6, 6))\n",
        "plt.scatter(principalDf['P1'], principalDf['P2'],\n",
        "           c = ac4.fit_predict(principalDf), cmap ='rainbow')\n",
        "plt.show()"
      ]
    },
    {
      "cell_type": "code",
      "execution_count": null,
      "id": "2fc7e5de",
      "metadata": {
        "id": "2fc7e5de"
      },
      "outputs": [],
      "source": [
        "ac5 = AgglomerativeClustering(n_clusters = 5)\n",
        " \n",
        "# Visualizing the clustering\n",
        "plt.figure(figsize =(6, 6))\n",
        "plt.scatter(principalDf['P1'], principalDf['P2'],\n",
        "           c = ac5.fit_predict(principalDf), cmap ='rainbow')\n",
        "plt.show()"
      ]
    },
    {
      "cell_type": "code",
      "execution_count": null,
      "id": "be012aeb",
      "metadata": {
        "id": "be012aeb"
      },
      "outputs": [],
      "source": [
        "k = [2, 3, 4, 5]\n",
        " \n",
        "# Appending the silhouette scores of the different models to the list\n",
        "silhouette_scores = []\n",
        "silhouette_scores.append(\n",
        "        silhouette_score(principalDf, ac2.fit_predict(principalDf)))\n",
        "silhouette_scores.append(\n",
        "        silhouette_score(principalDf, ac3.fit_predict(principalDf)))\n",
        "silhouette_scores.append(\n",
        "        silhouette_score(principalDf, ac4.fit_predict(principalDf)))\n",
        "silhouette_scores.append(\n",
        "        silhouette_score(principalDf, ac5.fit_predict(principalDf)))\n",
        "\n",
        " \n",
        "# Plotting a bar graph to compare the results\n",
        "plt.bar(k, silhouette_scores)\n",
        "plt.xlabel('Number of clusters', fontsize = 20)\n",
        "plt.ylabel('S(i)', fontsize = 20)\n",
        "plt.show()"
      ]
    }
  ],
  "metadata": {
    "kernelspec": {
      "display_name": "Python 3 (ipykernel)",
      "language": "python",
      "name": "python3"
    },
    "language_info": {
      "codemirror_mode": {
        "name": "ipython",
        "version": 3
      },
      "file_extension": ".py",
      "mimetype": "text/x-python",
      "name": "python",
      "nbconvert_exporter": "python",
      "pygments_lexer": "ipython3",
      "version": "3.11.0"
    },
    "colab": {
      "provenance": [],
      "include_colab_link": true
    }
  },
  "nbformat": 4,
  "nbformat_minor": 5
}